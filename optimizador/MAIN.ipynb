{
 "cells": [
  {
   "cell_type": "markdown",
   "metadata": {},
   "source": [
    "Autor: Raúl Jiménez Juárez\n",
    "Fecha: 08/11/2019\n",
    "\n",
    "Notebook principal donde se ejecuta el optimizador"
   ]
  },
  {
   "cell_type": "code",
   "execution_count": null,
   "metadata": {},
   "outputs": [],
   "source": [
    "#Librerías importadas\n",
    "import datetime\n",
    "import sys\n",
    "sys.path.insert(0, '/')\n",
    "import modulos.optimizador\n",
    "from modulos.optimizador import HVAcOptimizer\n",
    "from modulos.datos_externos import DatosExternos\n",
    "from modulos.visualizacion import MostrarFrente\n",
    "import pandas as pd\n",
    "from matplotlib import pyplot as plt\n",
    "import numpy as np\n",
    "from sklearn import preprocessing\n",
    "#%matplotlib inline"
   ]
  },
  {
   "cell_type": "code",
   "execution_count": null,
   "metadata": {},
   "outputs": [],
   "source": [
    "#Función para calcular el fitness\n",
    "def calcular_fitness(valores_objetivos):\n",
    "    min_max_scaler = preprocessing.MinMaxScaler()\n",
    "    x_scaled = min_max_scaler.fit_transform(abs(valores_objetivos))\n",
    "    \n",
    "    #cofort[0], consumo[1], COP[2], vt[3], tshow[4]\n",
    "    fitness_individuos = []\n",
    "    for solucion in x_scaled:\n",
    "        fitness = abs(solucion[0])*10  + solucion[1]*5 - solucion[2]*(1) + abs(solucion[3]) + solucion[4]\n",
    "        fitness_individuos.append(fitness)\n",
    "    return fitness_individuos"
   ]
  },
  {
   "cell_type": "markdown",
   "metadata": {},
   "source": [
    "## Configuración para caso de uso del histórico de datos"
   ]
  },
  {
   "cell_type": "code",
   "execution_count": null,
   "metadata": {},
   "outputs": [],
   "source": [
    "##Cargamos el archivo csv con los datos de simulación\n",
    "\n",
    "df_datos_simulacion = pd.read_csv('datos_simulacion.csv')\n",
    "\n",
    "eventos = df_datos_simulacion['Evento'].unique()\n",
    "\n",
    "#Preparamos los datos externos para el caso de uso\n",
    "\n",
    "indice = np.random.randint(len(eventos))\n",
    "caso_de_uso = df_datos_simulacion[df_datos_simulacion['Evento'] == eventos[indice]]\n",
    "\n",
    "datos_externos = DatosExternos(datetime.datetime.strptime(str(caso_de_uso['Hora_inicio'].iloc[0]), '%Y-%m-%d %H:%M:%S'),\n",
    "                               datetime.datetime.strptime(str(caso_de_uso['Hora_evento'].iloc[0]), '%Y-%m-%d %H:%M:%S'),\n",
    "                               caso_de_uso['T_interior_inicial'],\n",
    "                              23.5)\n",
    "\n",
    "datos_externos.intervalos = 12\n",
    "datos_externos.calcular_aforo_intervalos()\n",
    "datos_externos.calcular_horas_intervalos()\n",
    "datos_externos.temperatura_inicial = df_datos_simulacion[\"T_interior_inicial\"].iloc[0]\n",
    "datos_externos.temperatura_objetivo = 23.5\n",
    "temperaturas = caso_de_uso[\"T_exterior\"].iloc[0].split(' ')\n",
    "t_aux = []\n",
    "for x in temperaturas:\n",
    "    if(len(x) > 2):\n",
    "        x_aux = x.split('\\n')[0]\n",
    "        t_aux.append(x_aux)\n",
    "        \n",
    "temperaturas = []\n",
    "for i in range(0, 12):\n",
    "    temperaturas.append(float(t_aux[i]))\n",
    "datos_externos.temperaturas_intervalos = temperaturas\n",
    "\n",
    "\n",
    "optimizador = HVAcOptimizer()\n",
    "\n",
    "optimizador.configurar_optimizador_simulacion(datos_externos = datos_externos,\n",
    "                                 nombre_algoritmo=\"MOGA\", \n",
    "                                 max_evaluaciones = 2000, poblacion_maxima = 200)"
   ]
  },
  {
   "cell_type": "code",
   "execution_count": null,
   "metadata": {
    "scrolled": true
   },
   "outputs": [],
   "source": [
    "optimizador.ejecutar_algoritmo()\n",
    "resultados= optimizador.obtener_soluciones()\n",
    "resultados['Fitness'] = calcular_fitness(resultados[['Confort', 'Consumo', 'COP', 'Vt', 'Tshow - Tend']])\n",
    "resultados = resultados.sort_values(by=['Fitness'])\n",
    "for i in range(12):\n",
    "    if resultados[\"Programa\"].iloc[0][\"Hora\"].iloc[0] == optimizador.datos_externos.horas_intervalos[i]:\n",
    "        intervalo = i"
   ]
  },
  {
   "cell_type": "code",
   "execution_count": null,
   "metadata": {},
   "outputs": [],
   "source": [
    "print(caso_de_uso[[\"Evento\", \"Hora_evento\"]].iloc[0])\n",
    "print(\"Temperatura objetivo: 23.5\")"
   ]
  },
  {
   "cell_type": "code",
   "execution_count": null,
   "metadata": {},
   "outputs": [],
   "source": [
    "resultados['Programa'].iloc[0]"
   ]
  },
  {
   "cell_type": "code",
   "execution_count": null,
   "metadata": {},
   "outputs": [],
   "source": [
    "print(caso_de_uso['Programa'].iloc[0])"
   ]
  },
  {
   "cell_type": "code",
   "execution_count": null,
   "metadata": {},
   "outputs": [],
   "source": [
    "consumo = np.fromstring(caso_de_uso[\"Consumos\"].iloc[0][1:-1], sep = \" \")\n",
    "print(\"Valores objetivos optimizador: \")\n",
    "print(\"Confort: \", round(resultados['Confort'].iloc[0], 2), 'ºC')\n",
    "print(\"Temperatura final: \", round(resultados['Temperatura final'].iloc[0], 2), 'ºC')\n",
    "print(\"Consumo: \", round(resultados[\"Consumo\"].iloc[0], 2), 'KW')\n",
    "print(\"Rendimiento medio: \", round(resultados[\"COP\"].iloc[0], 2))\n",
    "print(\"\\nValores objetivos reales: \")\n",
    "print(\"Confort: \", round(caso_de_uso['Confort'].iloc[0], 2), 'ºC')\n",
    "print(\"Temperatura final: \", round(caso_de_uso['Confort'].iloc[0], 2) + 23.5, 'ºC')\n",
    "print(\"Consumo: \", round(sum(consumo[intervalo:]), 2), 'KW')\n",
    "print(\"Rendimiento medio: \", round(caso_de_uso[\"COP\"].iloc[0], 2))\n",
    "\n",
    "reales.append([caso_de_uso[\"Confort\"].iloc[0], sum(consumo[intervalo:]), caso_de_uso[\"COP\"].iloc[0]])\n",
    "optimizados.append([resultados[\"Confort\"].iloc[0], resultados[\"Consumo\"].iloc[0], resultados[\"COP\"].iloc[0]])"
   ]
  },
  {
   "cell_type": "markdown",
   "metadata": {},
   "source": [
    "## Configuración para caso de uso real"
   ]
  },
  {
   "cell_type": "code",
   "execution_count": null,
   "metadata": {
    "scrolled": false
   },
   "outputs": [],
   "source": [
    "#Analizar numero de variables con nsga ii y spgea para asignar numero de variables en mopso\n",
    "#Enviar paper de minimización jmetal\n",
    "optimizador = HVAcOptimizer()\n",
    "\n",
    "#Parámetros datetime: año, mes, día, hora, minutos\n",
    "fecha_inicio = datetime.datetime(2020, 6, 30, 19, 30) \n",
    "fecha_evento = datetime.datetime(2020, 6, 30, 22, 30)\n",
    "\n",
    "optimizador.configurar_optimizador(fecha_inicio = fecha_inicio, \n",
    "                                 fecha_evento = fecha_evento, \n",
    "                                 temperatura_inicial = 18,\n",
    "                                 temperatura_objetivo = 24,\n",
    "                                 nombre_algoritmo=\"MOGA\", \n",
    "                                 max_evaluaciones = 10000, poblacion_maxima = 200)\n",
    "optimizador.ejecutar_algoritmo()\n",
    "resultados= optimizador.obtener_soluciones()\n",
    "resultados['Fitness'] = calcular_fitness(resultados[['Confort', 'Consumo', 'COP', 'Vt', 'Tshow - Tend']])\n",
    "resultados = resultados.sort_values(by=['Fitness'])"
   ]
  },
  {
   "cell_type": "code",
   "execution_count": null,
   "metadata": {},
   "outputs": [],
   "source": [
    "print(\"Valores objetivos: \\n\")\n",
    "print(\"Confort: \", round(resultados['Confort'].iloc[0], 2), 'ºC')\n",
    "print(\"Temperatura final: \", round(resultados['Temperatura final'].iloc[0], 2), 'ºC')\n",
    "print(\"Consumo: \", round(resultados[\"Consumo\"].iloc[0], 2), 'KW')\n",
    "print(\"Rendimiento medio: \", round(resultados[\"COP\"].iloc[0], 2))\n",
    "print(\"\\nPrograma de climatización\")\n",
    "resultados['Programa'].iloc[0]"
   ]
  },
  {
   "cell_type": "code",
   "execution_count": null,
   "metadata": {},
   "outputs": [],
   "source": [
    "fig = plt.figure(figsize=(15,10))\n",
    "resultados.loc[resultados[\"COP\"] > 50, \"COP\"] = 50\n",
    "ax = fig.add_subplot(111, projection='3d')\n",
    "ax.set_xlabel(\"Confort\")\n",
    "ax.set_ylabel(\"Consumo\")\n",
    "ax.set_zlabel(\"COP\")\n",
    "\n",
    "ax.scatter(resultados[\"Confort\"],\n",
    "               resultados[\"Consumo\"],\n",
    "               resultados[\"COP\"])\n",
    "ax.relim()\n",
    "ax.autoscale_view(True, True)\n",
    "ax.view_init(elev=30.0, azim=15.0)\n",
    "ax.locator_params(nbins=4)\n",
    "plt.show()"
   ]
  },
  {
   "cell_type": "code",
   "execution_count": null,
   "metadata": {},
   "outputs": [],
   "source": [
    "fig = plt.figure(figsize=(15,10))\n",
    "ax = fig.add_subplot(111)\n",
    "ax.set_xlabel(\"Temperatura final\")\n",
    "ax.set_ylabel(\"Consumo\")\n",
    "for i in range(len(resultados)):\n",
    "    ax.scatter(resultados[\"Temperatura final\"].iloc[i], resultados[\"Consumo\"].iloc[i])\n",
    "ax.autoscale_view(True, True)\n",
    "plt.show()"
   ]
  }
 ],
 "metadata": {
  "kernelspec": {
   "display_name": "Python 3",
   "language": "python",
   "name": "python3"
  },
  "language_info": {
   "codemirror_mode": {
    "name": "ipython",
    "version": 3
   },
   "file_extension": ".py",
   "mimetype": "text/x-python",
   "name": "python",
   "nbconvert_exporter": "python",
   "pygments_lexer": "ipython3",
   "version": "3.7.7"
  }
 },
 "nbformat": 4,
 "nbformat_minor": 4
}
