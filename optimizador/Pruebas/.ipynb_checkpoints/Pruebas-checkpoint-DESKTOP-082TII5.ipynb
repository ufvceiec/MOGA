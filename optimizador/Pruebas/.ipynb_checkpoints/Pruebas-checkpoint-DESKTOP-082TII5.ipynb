{
 "cells": [
  {
   "cell_type": "code",
   "execution_count": null,
   "metadata": {},
   "outputs": [],
   "source": [
    "%reset\n",
    "import datetime\n",
    "import sys\n",
    "import os\n",
    "sys.path.insert(0, '../')\n",
    "import modulos.optimizador\n",
    "from modulos.optimizador import HVAcOptimizer\n",
    "import datetime\n",
    "from jmetal.lab.experiment import Experiment, Job, generate_summary_from_experiment\n",
    "from jmetal.core.quality_indicator import *"
   ]
  },
  {
   "cell_type": "code",
   "execution_count": 2,
   "metadata": {},
   "outputs": [
    {
     "ename": "AttributeError",
     "evalue": "module 'modulos' has no attribute 'utilidades'",
     "output_type": "error",
     "traceback": [
      "\u001b[1;31m---------------------------------------------------------------------------\u001b[0m",
      "\u001b[1;31mAttributeError\u001b[0m                            Traceback (most recent call last)",
      "\u001b[1;32m<ipython-input-2-51340b0e819f>\u001b[0m in \u001b[0;36m<module>\u001b[1;34m\u001b[0m\n\u001b[0;32m      1\u001b[0m \u001b[1;32mimport\u001b[0m \u001b[0mimportlib\u001b[0m\u001b[1;33m\u001b[0m\u001b[1;33m\u001b[0m\u001b[0m\n\u001b[1;32m----> 2\u001b[1;33m \u001b[0mimportlib\u001b[0m\u001b[1;33m.\u001b[0m\u001b[0mreload\u001b[0m\u001b[1;33m(\u001b[0m\u001b[0mmodulos\u001b[0m\u001b[1;33m.\u001b[0m\u001b[0mutilidades\u001b[0m\u001b[1;33m)\u001b[0m\u001b[1;33m\u001b[0m\u001b[1;33m\u001b[0m\u001b[0m\n\u001b[0m\u001b[0;32m      3\u001b[0m \u001b[1;32mfrom\u001b[0m \u001b[0mmodulos\u001b[0m\u001b[1;33m.\u001b[0m\u001b[0mutilidades\u001b[0m \u001b[1;32mimport\u001b[0m \u001b[0mHVAcOptimizer\u001b[0m\u001b[1;33m\u001b[0m\u001b[1;33m\u001b[0m\u001b[0m\n",
      "\u001b[1;31mAttributeError\u001b[0m: module 'modulos' has no attribute 'utilidades'"
     ]
    }
   ],
   "source": [
    "import importlib\n",
    "importlib.reload(modulos.utilidades)\n",
    "from modulos.utilidades import HVAcOptimizer"
   ]
  },
  {
   "cell_type": "code",
   "execution_count": 12,
   "metadata": {},
   "outputs": [],
   "source": [
    "def configure_experiment(n_run: int, hora_show_pruebas : datetime):\n",
    "    jobs = []\n",
    "    max_eval =  100\n",
    "    optimizador = HVAcOptimizer()\n",
    "    population = 50\n",
    "    problem_tag = \"HVAC\"\n",
    "    for run in range(n_run):\n",
    "        max_eval= max_eval*5\n",
    "        population+= 50\n",
    "        jobs.append(\n",
    "            Job(optimizador.configurar_optimizador(fecha_inicio = datetime.datetime(2020, 2, 24, 9, 30), \n",
    "                                 fecha_evento = datetime.datetime(2020, 2, 24, 13, 30), \n",
    "                                 temperatura_inicial = 18,\n",
    "                                 temperatura_objetivo = 24,\n",
    "                                 nombre_algoritmo=\"MOGA\", \n",
    "                                 max_evaluaciones = max_eval, poblacion_maxima = population),\n",
    "                algorithm_tag='MOGA',\n",
    "                problem_tag=problem_tag,\n",
    "                run=run))\n",
    "        jobs.append(\n",
    "            Job(optimizador.configurar_optimizador(fecha_inicio = datetime.datetime(2020, 2, 24, 9, 30), \n",
    "                                 fecha_evento = datetime.datetime(2020, 2, 24, 13, 30), \n",
    "                                 temperatura_inicial = 18,\n",
    "                                 temperatura_objetivo = 24,\n",
    "                                 nombre_algoritmo=\"NSGAII\", \n",
    "                                 max_evaluaciones = max_eval, poblacion_maxima = population),\n",
    "                algorithm_tag='NSGAII',\n",
    "                problem_tag=problem_tag,\n",
    "                     run=run))\n",
    "       \n",
    "        jobs.append(\n",
    "            Job(optimizador.configurar_optimizador(fecha_inicio = datetime.datetime(2020, 2, 24, 9, 30), \n",
    "                                 fecha_evento = datetime.datetime(2020, 2, 24, 13, 30), \n",
    "                                 temperatura_inicial = 18,\n",
    "                                 temperatura_objetivo = 24,\n",
    "                                 nombre_algoritmo=\"SMPSO\", \n",
    "                                 max_evaluaciones = max_eval, poblacion_maxima = population),\n",
    "                algorithm_tag='SMPSO',\n",
    "                problem_tag=problem_tag,\n",
    "                run=run))\n",
    "                \n",
    "                    \n",
    "    jobs.append(\n",
    "        Job(optimizador.configurar_optimizador(fecha_inicio = datetime.datetime(2020, 2, 24, 9, 30), \n",
    "                             fecha_evento = datetime.datetime(2020, 2, 24, 13, 30), \n",
    "                             temperatura_inicial = 18,\n",
    "                             temperatura_objetivo = 24,\n",
    "                             nombre_algoritmo=\"SPEA2\", \n",
    "                             max_evaluaciones = 1000, poblacion_maxima = 50),\n",
    "            algorithm_tag='SPEA2',\n",
    "            problem_tag=problem_tag,\n",
    "            run=run))\n",
    "    return jobs\n",
    "    "
   ]
  },
  {
   "cell_type": "code",
   "execution_count": 13,
   "metadata": {
    "scrolled": true
   },
   "outputs": [
    {
     "name": "stdout",
     "output_type": "stream",
     "text": [
      "\n",
      "Optimzador creado: \n",
      "\talgoritmo:  MOGA\n",
      "\tpoblación:  100\n",
      "\tprobabilidad de mutación:  0.2\n",
      "\tmáximas evaluaciones:  500\n",
      "\n",
      "Datos del problema: \n",
      "\thora mínima:  2020-02-24 09:30:00\n",
      "\thora show:  2020-02-24 13:30:00\n",
      "\tconfiguraciones máximas:  16\n",
      "\n",
      "Optimzador creado: \n",
      "\talgoritmo:  NSGAII\n",
      "\tpoblación:  100\n",
      "\tprobabilidad de mutación:  0.2\n",
      "\tmáximas evaluaciones:  500\n",
      "\n",
      "Datos del problema: \n",
      "\thora mínima:  2020-02-24 09:30:00\n",
      "\thora show:  2020-02-24 13:30:00\n",
      "\tconfiguraciones máximas:  16\n"
     ]
    },
    {
     "ename": "AttributeError",
     "evalue": "'BancoAlgoritmos' object has no attribute 'configurar_SMPSO'",
     "output_type": "error",
     "traceback": [
      "\u001b[1;31m---------------------------------------------------------------------------\u001b[0m",
      "\u001b[1;31mAttributeError\u001b[0m                            Traceback (most recent call last)",
      "\u001b[1;32m<ipython-input-13-41e990ef4a9b>\u001b[0m in \u001b[0;36m<module>\u001b[1;34m\u001b[0m\n\u001b[0;32m      2\u001b[0m     \u001b[0m__spec__\u001b[0m \u001b[1;33m=\u001b[0m \u001b[1;34m\"ModuleSpec(name='builtins', loader=<class '_frozen_importlib.BuiltinImporter'>)\"\u001b[0m\u001b[1;33m\u001b[0m\u001b[1;33m\u001b[0m\u001b[0m\n\u001b[0;32m      3\u001b[0m \u001b[1;33m\u001b[0m\u001b[0m\n\u001b[1;32m----> 4\u001b[1;33m     \u001b[0mjobs\u001b[0m \u001b[1;33m=\u001b[0m \u001b[0mconfigure_experiment\u001b[0m\u001b[1;33m(\u001b[0m\u001b[0mn_run\u001b[0m\u001b[1;33m=\u001b[0m\u001b[1;36m4\u001b[0m\u001b[1;33m,\u001b[0m \u001b[0mhora_show_pruebas\u001b[0m \u001b[1;33m=\u001b[0m \u001b[0mdatetime\u001b[0m\u001b[1;33m.\u001b[0m\u001b[0mtime\u001b[0m\u001b[1;33m(\u001b[0m\u001b[1;36m16\u001b[0m\u001b[1;33m,\u001b[0m \u001b[1;36m40\u001b[0m\u001b[1;33m)\u001b[0m\u001b[1;33m)\u001b[0m\u001b[1;33m\u001b[0m\u001b[1;33m\u001b[0m\u001b[0m\n\u001b[0m\u001b[0;32m      5\u001b[0m \u001b[1;33m\u001b[0m\u001b[0m\n\u001b[0;32m      6\u001b[0m     \u001b[1;31m# Run the study\u001b[0m\u001b[1;33m\u001b[0m\u001b[1;33m\u001b[0m\u001b[1;33m\u001b[0m\u001b[0m\n",
      "\u001b[1;32m<ipython-input-12-08e6a1c76fe6>\u001b[0m in \u001b[0;36mconfigure_experiment\u001b[1;34m(n_run, hora_show_pruebas)\u001b[0m\n\u001b[0;32m     35\u001b[0m                                  \u001b[0mtemperatura_objetivo\u001b[0m \u001b[1;33m=\u001b[0m \u001b[1;36m24\u001b[0m\u001b[1;33m,\u001b[0m\u001b[1;33m\u001b[0m\u001b[1;33m\u001b[0m\u001b[0m\n\u001b[0;32m     36\u001b[0m                                  \u001b[0mnombre_algoritmo\u001b[0m\u001b[1;33m=\u001b[0m\u001b[1;34m\"SMPSO\"\u001b[0m\u001b[1;33m,\u001b[0m\u001b[1;33m\u001b[0m\u001b[1;33m\u001b[0m\u001b[0m\n\u001b[1;32m---> 37\u001b[1;33m                                  max_evaluaciones = max_eval, poblacion_maxima = population),\n\u001b[0m\u001b[0;32m     38\u001b[0m                 \u001b[0malgorithm_tag\u001b[0m\u001b[1;33m=\u001b[0m\u001b[1;34m'SMPSO'\u001b[0m\u001b[1;33m,\u001b[0m\u001b[1;33m\u001b[0m\u001b[1;33m\u001b[0m\u001b[0m\n\u001b[0;32m     39\u001b[0m                 \u001b[0mproblem_tag\u001b[0m\u001b[1;33m=\u001b[0m\u001b[0mproblem_tag\u001b[0m\u001b[1;33m,\u001b[0m\u001b[1;33m\u001b[0m\u001b[1;33m\u001b[0m\u001b[0m\n",
      "\u001b[1;32m~\\OneDrive - UFV\\PFG\\Codigo\\TFG\\modulos\\optimizador.py\u001b[0m in \u001b[0;36mconfigurar_optimizador\u001b[1;34m(self, fecha_inicio, fecha_evento, temperatura_inicial, temperatura_objetivo, nombre_algoritmo, probabilidad_mutacion, max_evaluaciones, poblacion_maxima)\u001b[0m\n\u001b[0;32m     75\u001b[0m                             upper_bound = maximo_hvac)\n\u001b[0;32m     76\u001b[0m \u001b[1;33m\u001b[0m\u001b[0m\n\u001b[1;32m---> 77\u001b[1;33m         \u001b[0mself\u001b[0m\u001b[1;33m.\u001b[0m\u001b[0malgoritmo\u001b[0m \u001b[1;33m=\u001b[0m \u001b[0mself\u001b[0m\u001b[1;33m.\u001b[0m\u001b[0mconfigurar_algoritmo\u001b[0m\u001b[1;33m(\u001b[0m\u001b[0mnombre_algoritmo\u001b[0m\u001b[1;33m,\u001b[0m \u001b[0mpoblacion_maxima\u001b[0m\u001b[1;33m,\u001b[0m \u001b[0mprobabilidad_mutacion\u001b[0m\u001b[1;33m,\u001b[0m \u001b[0mmax_evaluaciones\u001b[0m\u001b[1;33m)\u001b[0m\u001b[1;33m\u001b[0m\u001b[1;33m\u001b[0m\u001b[0m\n\u001b[0m\u001b[0;32m     78\u001b[0m \u001b[1;33m\u001b[0m\u001b[0m\n\u001b[0;32m     79\u001b[0m         \u001b[1;31m#Desde aqui añadimos los nuevos observers\u001b[0m\u001b[1;33m\u001b[0m\u001b[1;33m\u001b[0m\u001b[1;33m\u001b[0m\u001b[0m\n",
      "\u001b[1;32m~\\OneDrive - UFV\\PFG\\Codigo\\TFG\\modulos\\optimizador.py\u001b[0m in \u001b[0;36mconfigurar_algoritmo\u001b[1;34m(self, algoritmo, population, mutation_probability, max_evaluations)\u001b[0m\n\u001b[0;32m    118\u001b[0m \u001b[1;33m\u001b[0m\u001b[0m\n\u001b[0;32m    119\u001b[0m         \u001b[1;32melif\u001b[0m \u001b[0malgoritmo\u001b[0m \u001b[1;33m==\u001b[0m \u001b[1;34m'SMPSO'\u001b[0m\u001b[1;33m:\u001b[0m\u001b[1;33m\u001b[0m\u001b[1;33m\u001b[0m\u001b[0m\n\u001b[1;32m--> 120\u001b[1;33m             \u001b[0malgorithm\u001b[0m \u001b[1;33m=\u001b[0m \u001b[0mbanco_algoritmos\u001b[0m\u001b[1;33m.\u001b[0m\u001b[0mconfigurar_SMPSO\u001b[0m\u001b[1;33m(\u001b[0m\u001b[1;33m)\u001b[0m\u001b[1;33m\u001b[0m\u001b[1;33m\u001b[0m\u001b[0m\n\u001b[0m\u001b[0;32m    121\u001b[0m \u001b[1;33m\u001b[0m\u001b[0m\n\u001b[0;32m    122\u001b[0m         \u001b[1;32melif\u001b[0m \u001b[0malgoritmo\u001b[0m \u001b[1;33m==\u001b[0m \u001b[1;34m'SPEA2'\u001b[0m\u001b[1;33m:\u001b[0m\u001b[1;33m\u001b[0m\u001b[1;33m\u001b[0m\u001b[0m\n",
      "\u001b[1;31mAttributeError\u001b[0m: 'BancoAlgoritmos' object has no attribute 'configurar_SMPSO'"
     ]
    }
   ],
   "source": [
    "if __name__ == '__main__':\n",
    "    __spec__ = \"ModuleSpec(name='builtins', loader=<class '_frozen_importlib.BuiltinImporter'>)\"\n",
    "\n",
    "    jobs = configure_experiment(n_run=4, hora_show_pruebas = datetime.time(16, 40))\n",
    "\n",
    "    # Run the study\n",
    "    output_directory = 'data'\n",
    "    experiment = Experiment(output_dir=output_directory, jobs=jobs)\n",
    "    experiment.run()\n",
    "    directory = os.getcwd() +'\\\\data'\n",
    "    generate_summary_from_experiment(\n",
    "        input_dir=directory,\n",
    "        reference_fronts= directory ,\n",
    "        quality_indicators=[GenerationalDistance(), EpsilonIndicator(), HyperVolume([1.0, 1.0])]\n",
    "    )"
   ]
  },
  {
   "cell_type": "code",
   "execution_count": null,
   "metadata": {},
   "outputs": [],
   "source": []
  },
  {
   "cell_type": "code",
   "execution_count": null,
   "metadata": {},
   "outputs": [],
   "source": []
  }
 ],
 "metadata": {
  "kernelspec": {
   "display_name": "Python 3",
   "language": "python",
   "name": "python3"
  },
  "language_info": {
   "codemirror_mode": {
    "name": "ipython",
    "version": 3
   },
   "file_extension": ".py",
   "mimetype": "text/x-python",
   "name": "python",
   "nbconvert_exporter": "python",
   "pygments_lexer": "ipython3",
   "version": "3.7.4"
  }
 },
 "nbformat": 4,
 "nbformat_minor": 4
}
