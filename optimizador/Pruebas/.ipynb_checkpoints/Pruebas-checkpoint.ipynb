{
 "cells": [
  {
   "cell_type": "code",
   "execution_count": 1,
   "metadata": {},
   "outputs": [],
   "source": [
    "#En este notebook se realizarán las métricas de los algoritmos evolutivos."
   ]
  },
  {
   "cell_type": "markdown",
   "metadata": {},
   "source": [
    "## Importación de librerías"
   ]
  },
  {
   "cell_type": "code",
   "execution_count": null,
   "metadata": {},
   "outputs": [],
   "source": [
    "import datetime\n",
    "import sys\n",
    "import os\n",
    "sys.path.insert(0, '../')\n",
    "import modulos.optimizador\n",
    "from modulos.optimizador import HVAcOptimizer\n",
    "from modulos.datos_externos import DatosExternos\n",
    "import datetime\n",
    "from jmetal.lab.experiment import Experiment, Job, generate_summary_from_experiment\n",
    "from jmetal.core.quality_indicator import *\n",
    "import pandas as pd\n",
    "from sklearn import preprocessing\n"
   ]
  },
  {
   "cell_type": "code",
   "execution_count": null,
   "metadata": {},
   "outputs": [],
   "source": [
    "##Obtener el pareto de referencia\n",
    "\n",
    "optimizador = HVAcOptimizer()\n",
    "fecha_inicio =  datetime.datetime(2020, 4, 21, 17, 30)\n",
    "fecha_evento = datetime.datetime(2020, 4, 21, 20, 30)\n",
    "optimizador.configurar_optimizador(fecha_inicio = fecha_inicio, \n",
    "                                     fecha_evento = fecha_evento, \n",
    "                                     temperatura_inicial = 18,\n",
    "                                     temperatura_objetivo = 24,\n",
    "                                     nombre_algoritmo=\"NSGAII\", \n",
    "                                     max_evaluaciones = 20000, poblacion_maxima = 500)\n",
    "\n",
    "    \n",
    "optimizador.ejecutar_algoritmo()\n",
    "import pandas as pd\n",
    "pareto_ideal_df = pd.DataFrame([optimizador.soluciones[i].objectives for i in range(len(optimizador.soluciones))])\n",
    "pareto_ideal_df .to_csv('solucion_referencia.csv', index = False)"
   ]
  },
  {
   "cell_type": "code",
   "execution_count": null,
   "metadata": {},
   "outputs": [],
   "source": [
    "def obtener_metricas(soluciones):\n",
    "    pf_referencia = pd.read_csv(\"solucion_referencia.csv\")\n",
    "    min_max_scaler = preprocessing.MinMaxScaler()\n",
    "    x_scaled = min_max_scaler.fit_transform(abs(pf_referencia.values))\n",
    "    quality_indicators=[GenerationalDistance(reference_front = x_scaled), \n",
    "                        EpsilonIndicator(reference_front = pf_referencia.values), \n",
    "                        HyperVolume(reference_point = [1, 1, 1, 1, 1])]\n",
    "    results = []\n",
    "    \n",
    "    for indicator in quality_indicators:\n",
    "        result = indicator.compute(soluciones)\n",
    "        results.append(result)\n",
    "        \n",
    "   \n",
    "    return results"
   ]
  },
  {
   "cell_type": "code",
   "execution_count": null,
   "metadata": {},
   "outputs": [],
   "source": [
    "def ejecutar_prueba(max_evaluaciones, poblacion_maxima, nombre_algoritmo, fecha_inicio, fecha_evento):\n",
    "    \n",
    "    dg = 0\n",
    "    ei = 0\n",
    "    hv = 0\n",
    "    tc = 0\n",
    "    \n",
    "    for i in range(10):\n",
    "        optimizador = HVAcOptimizer()\n",
    "        optimizador.configurar_optimizador(fecha_inicio = fecha_inicio, \n",
    "                                     fecha_evento = fecha_evento, \n",
    "                                     temperatura_inicial = 18,\n",
    "                                     temperatura_objetivo = 24,\n",
    "                                     nombre_algoritmo=nombre_algoritmo, \n",
    "                                     max_evaluaciones = max_evaluaciones, poblacion_maxima = poblacion_maxima)\n",
    "        optimizador.ejecutar_algoritmo()\n",
    "        results = obtener_metricas([optimizador.soluciones[i].objectives for i in range(len(optimizador.soluciones))])\n",
    "        dg += results[0]\n",
    "        ei += results[1]\n",
    "        hv += results[2]\n",
    "        tc += optimizador.algoritmo.total_computing_time\n",
    "        \n",
    "        \n",
    "    df_metricas = pd.DataFrame({\"Algoritmo\" : [nombre_algoritmo],\n",
    "                                \"Evaluaciones\" : [max_evaluaciones],\n",
    "                                \"Poblacion\" : [poblacion_maxima],\n",
    "                                \"GD\" : [dg/10],\n",
    "                                \"EI\" : [ei/10],\n",
    "                                \"HV\" : [hv/10],\n",
    "                                \"Tiempo\" : [tc/10]})\n",
    "    \n",
    "\n",
    "    return df_metricas"
   ]
  },
  {
   "cell_type": "code",
   "execution_count": null,
   "metadata": {
    "scrolled": true
   },
   "outputs": [],
   "source": [
    "optimizador = HVAcOptimizer()\n",
    "fecha_inicio =  datetime.datetime(2020, 5, 27, 17, 30)\n",
    "fecha_evento = datetime.datetime(2020, 5, 27, 20, 30)\n",
    "problem_tag = \"HVAC\"\n",
    "run = 2\n",
    "\n",
    "df_metricas = pd.DataFrame({\"GD\" : [],\n",
    "                           \"EI\" : [],\n",
    "                           \"HV\" : [] })\n",
    "\n",
    "\n",
    "for poblacion in range(100, 350, 50):\n",
    "    for evaluaciones in range(500, 5000, 500):\n",
    "        \n",
    "        \n",
    "        metricas_moga = ejecutar_prueba(evaluaciones, poblacion, \"MOGA\", fecha_inicio, fecha_evento)\n",
    "        df_metricas = df_metricas.append(metricas_moga, ignore_index = True)\n",
    "        metricas_moga = ejecutar_prueba(evaluaciones, poblacion, \"NSGAII\", fecha_inicio, fecha_evento)\n",
    "        df_metricas = df_metricas.append(metricas_moga, ignore_index = True)\n",
    "        metricas_moga = ejecutar_prueba(evaluaciones, poblacion, \"NSGAIII\", fecha_inicio, fecha_evento)\n",
    "        df_metricas = df_metricas.append(metricas_moga, ignore_index = True)\n",
    "        metricas_moga = ejecutar_prueba(evaluaciones, poblacion, \"RandomSearch\", fecha_inicio, fecha_evento)\n",
    "        df_metricas = df_metricas.append(metricas_moga, ignore_index = True)\n",
    "        metricas_moga = ejecutar_prueba(evaluaciones, poblacion, \"SMPSO\", fecha_inicio, fecha_evento)\n",
    "        df_metricas = df_metricas.append(metricas_moga, ignore_index = True)\n",
    "        metricas_moga = ejecutar_prueba(evaluaciones, poblacion, \"OMOPSO\", fecha_inicio, fecha_evento)\n",
    "        df_metricas = df_metricas.append(metricas_moga, ignore_index = True)\n",
    "\n",
    "    \n",
    "    \n",
    "    \n",
    "\n",
    "df_metricas.to_csv('metricas_algoritmos.csv', index = False)"
   ]
  },
  {
   "cell_type": "code",
   "execution_count": null,
   "metadata": {},
   "outputs": [],
   "source": [
    "df_metricas"
   ]
  }
 ],
 "metadata": {
  "kernelspec": {
   "display_name": "Python 3",
   "language": "python",
   "name": "python3"
  },
  "language_info": {
   "codemirror_mode": {
    "name": "ipython",
    "version": 3
   },
   "file_extension": ".py",
   "mimetype": "text/x-python",
   "name": "python",
   "nbconvert_exporter": "python",
   "pygments_lexer": "ipython3",
   "version": "3.7.7"
  }
 },
 "nbformat": 4,
 "nbformat_minor": 4
}
