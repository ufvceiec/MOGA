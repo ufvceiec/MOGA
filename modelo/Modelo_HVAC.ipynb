{
 "cells": [
  {
   "cell_type": "markdown",
   "metadata": {},
   "source": [
    "## Librerías"
   ]
  },
  {
   "cell_type": "code",
   "execution_count": null,
   "metadata": {},
   "outputs": [],
   "source": [
    "import numpy as np\n",
    "import pandas as pd\n",
    "import datetime\n",
    "\n",
    "import matplotlib.pyplot as plt\n",
    "\n",
    "import pickle\n",
    "from sklearn.model_selection import train_test_split\n",
    "from sklearn.ensemble import RandomForestRegressor\n",
    "from sklearn import metrics\n",
    "from sklearn.preprocessing import MinMaxScaler\n",
    "\n",
    "from keras.models import Sequential\n",
    "from keras.layers import Dense, Activation\n"
   ]
  },
  {
   "cell_type": "markdown",
   "metadata": {},
   "source": [
    "## Directorios y carga de datos"
   ]
  },
  {
   "cell_type": "code",
   "execution_count": null,
   "metadata": {},
   "outputs": [],
   "source": [
    "data_in = \"./input/\"\n",
    "data_out = \"./output/\""
   ]
  },
  {
   "cell_type": "code",
   "execution_count": null,
   "metadata": {},
   "outputs": [],
   "source": [
    "# Cargamos los datos de las base de datos del Teatro Real\n",
    "\n",
    "#   - Informacion de los sensores en producción: \n",
    "df_hvacs = pd.read_excel(data_in + 'tr_hvacs.xlsx')\n",
    "#   - Temperaturas tomadas en distintas zonas\n",
    "df_zones = pd.read_excel(data_in + 'tr_zones.xlsx')\n",
    "#   - Temeperatura en el auditorio durante los shows\n",
    "df_shows = pd.read_excel(data_in + 'tr_shows.xlsx')"
   ]
  },
  {
   "cell_type": "markdown",
   "metadata": {},
   "source": [
    "## Preprocesamiento de datos"
   ]
  },
  {
   "cell_type": "code",
   "execution_count": null,
   "metadata": {},
   "outputs": [],
   "source": []
  },
  {
   "cell_type": "code",
   "execution_count": null,
   "metadata": {},
   "outputs": [],
   "source": [
    "index = pd.date_range('2016-01-01', '2018-03-24 23:45', freq = '15T')\n",
    "\n",
    "df_shows = df_shows.sort_values(by=['Date'])\n",
    "df_shows = df_shows.drop_duplicates(['Date'])\n",
    "df_shows = df_shows.set_index(['Date'])\n",
    "df_shows = df_shows.reindex(index).fillna(method = 'pad', limit = 1)\n",
    "\n",
    "df_zones = df_zones.set_index(['Date'])\n",
    "df_zones = df_zones.reindex(index).interpolate(method = 'linear', limit = 1)\n",
    "\n",
    "df_hvacs['h_Text'] = df_hvacs['h_Text'].replace(to_replace=0, method='ffill', limit = 2)\n",
    "df_hvacs = df_hvacs.set_index(['Date'])\n",
    "df_hvacs = df_hvacs.reindex(index).interpolate(method = 'linear', limit = 1)\n"
   ]
  },
  {
   "cell_type": "code",
   "execution_count": null,
   "metadata": {},
   "outputs": [],
   "source": [
    "#Concatenamos todos los dataframes en uno solo\n",
    "df_teatro_real_inicial = pd.concat([df_hvacs, df_shows, df_zones], axis =1)"
   ]
  },
  {
   "cell_type": "code",
   "execution_count": null,
   "metadata": {},
   "outputs": [],
   "source": [
    "#Creamos el DataFrame final que utilizará el modelo\n",
    "df_teatro_real = pd.DataFrame()\n",
    "df_teatro_real['Date'] = df_teatro_real_inicial.index\n",
    "df_teatro_real = df_teatro_real.set_index(['Date'])\n",
    "\n",
    "#Guardamos las capacidades de los chillers del sistema HVAC\n",
    "\n",
    "#Ajustamos los valores para que las capacidades de las bombas de frío\n",
    "#sean de -100 a 0 y las bombas de calor de 0 a 100\n",
    "\n",
    "df_teatro_real_inicial.loc[df_teatro_real_inicial['h_Wint_ChC'] == 1, 'h_Cap_ChC'] = -df_teatro_real_inicial.loc[df_teatro_real_inicial['h_Wint_ChC'] == 1, 'h_Cap_ChC']\n",
    "df_teatro_real_inicial.loc[df_teatro_real_inicial['h_Wint_ChF'] == 1, 'h_Cap_ChF'] = -df_teatro_real_inicial.loc[df_teatro_real_inicial['h_Wint_ChF'] == 1, 'h_Cap_ChF']\n",
    "\n",
    "df_teatro_real['Climatizador 1'] = -df_teatro_real_inicial['h_Cap_Ch1']\n",
    "df_teatro_real['Climatizador 2'] = -df_teatro_real_inicial['h_Cap_Ch2']\n",
    "df_teatro_real['Climatizador Carlos'] = -df_teatro_real_inicial['h_Cap_ChC']\n",
    "df_teatro_real['Climatizador Felipe'] = -df_teatro_real_inicial['h_Cap_ChF']"
   ]
  },
  {
   "cell_type": "code",
   "execution_count": null,
   "metadata": {},
   "outputs": [],
   "source": [
    "df_teatro_real['Modo invierno Carlos'] = df_teatro_real_inicial['h_Wint_ChC'] \n",
    "df_teatro_real['Modo invierno Felipe'] = df_teatro_real_inicial['h_Wint_ChF'] "
   ]
  },
  {
   "cell_type": "code",
   "execution_count": null,
   "metadata": {},
   "outputs": [],
   "source": [
    "#Guardamos en el dataframe del teatro real la energía consumida en los periodos\n",
    "#Se calcula sumando el coste de todos los chillers y multipliclándolo por\n",
    "#0.25, ya que son KWh y el periodo consta de 15 minutos \n",
    "\n",
    "df_teatro_real['Consumo'] = df_teatro_real_inicial[[\n",
    "                             'h_Pe_Ch1', \n",
    "                             'h_Pe_Ch2', \n",
    "                             'h_Pe_ChC', \n",
    "                             'h_Pe_ChF']].sum(axis = 1) * 0.25\n",
    "\n",
    "#Guardamos en el dataframe el coeficiente de rendimiento de los HVAC, \n",
    "#que se calcula dividiendo la emisión térmica entre el consumo real\n",
    "\n",
    "df_teatro_real['COP'] = 0.25*(df_teatro_real_inicial[\n",
    "                ['h_Wt_Ch1', \n",
    "                 'h_Wt_Ch2', \n",
    "                 'h_Wt_ChC', \n",
    "                 'h_Wt_ChF'\n",
    "                ]].sum(axis = 1))/(1000*df_teatro_real['Consumo'])"
   ]
  },
  {
   "cell_type": "code",
   "execution_count": null,
   "metadata": {},
   "outputs": [],
   "source": [
    "df_teatro_real['Wt'] = 0.25*(df_teatro_real_inicial[\n",
    "                ['h_Wt_Ch1', \n",
    "                 'h_Wt_Ch2', \n",
    "                 'h_Wt_ChC', \n",
    "                 'h_Wt_ChF'\n",
    "                ]].sum(axis = 1))/1000"
   ]
  },
  {
   "cell_type": "code",
   "execution_count": null,
   "metadata": {},
   "outputs": [],
   "source": [
    "#Guardamos en el dataframe del Teatro Real la temperatura interior\n",
    "\n",
    "df_teatro_real[\"T_interior_inicial\"] = df_teatro_real_inicial[\n",
    "                                                        [\n",
    "                                                    's_Tr_AmbC', \n",
    "                                                    's_Tr_CrcC', \n",
    "                                                    's_Tr_CrcF', \n",
    "                                                    's_Tr_FyrF', \n",
    "                                                    's_Tr_GdF', \n",
    "                                                    's_Tr_GoyaF', \n",
    "                                                    's_Tr_Hal1F', \n",
    "                                                    's_Tr_PitF', \n",
    "                                                    's_Tr_StdsC', \n",
    "                                                    's_Tr_StdsF', \n",
    "                                                    's_TRet_AmbF', \n",
    "                                                    's_TRet_StllC', \n",
    "                                                    's_TRet_StllF', \n",
    "                                                    'z_Tr_AmbC', \n",
    "                                                    'z_Tr_GyrreC', \n",
    "                                                    'z_Tr_HalSAPAF', \n",
    "                                                    'z_Tr_OrchReheF', \n",
    "                                                    'z_Tr_Sng4', \n",
    "                                                    'z_TRet_Bllt', \n",
    "                                                    'z_TRet_Choir', \n",
    "                                                    'z_TRet_CrcC', \n",
    "                                                    'z_TRet_CrcF', \n",
    "                                                    'z_TRet_Hal6F', \n",
    "                                                    'z_TRet_OffiF', \n",
    "                                                    'z_TRet_R14', \n",
    "                                                    'z_TRet_Store', \n",
    "                                                    'z_TRet_Tech'  \n",
    "                                                        ]\n",
    "                                                    ].mean(axis = 1, skipna = True)\n",
    "\n",
    "Valores_temperatura = df_teatro_real['T_interior_inicial'].describe()\n",
    "iqr = Valores_temperatura['75%'] - Valores_temperatura['25%'] \n",
    "iqr_up = Valores_temperatura['75%'] + 1.5 * iqr\n",
    "iqr_down = Valores_temperatura['25%'] - 1.5 * iqr\n",
    "df_teatro_real['T_interior_inicial'][(df_teatro_real['T_interior_inicial'] <= iqr_down) | (df_teatro_real['T_interior_inicial'] >= iqr_up)] = df_teatro_real['T_interior_inicial'].rolling(window=10).mean()\n",
    "\n",
    "#Guardamos la temperatura interior del final del periodo, que corresponde  \n",
    "#a la temperatura interior inicial del próximo periodo\n",
    "df_teatro_real['T_interior_final'] = df_teatro_real['T_interior_inicial'].shift(periods = -1)\n",
    "\n",
    "df_teatro_real['Variacion_temperatura'] = df_teatro_real['T_interior_final'] - df_teatro_real['T_interior_inicial']"
   ]
  },
  {
   "cell_type": "code",
   "execution_count": null,
   "metadata": {},
   "outputs": [],
   "source": [
    "#Guardamos en el dataframe del teatro real la temperatura \n",
    "#exterior de cada periodo\n",
    "\n",
    "df_teatro_real['T_exterior'] = df_teatro_real_inicial['h_Text']\n",
    "\n",
    "#Guardamos en el dataframe del teatro real el aforo y el numero del evento\n",
    "df_teatro_real['Evento'] = df_teatro_real_inicial['s_EventOn'].fillna(0)\n",
    "\n",
    "df_teatro_real['Aforo'] = 0\n",
    "df_teatro_real.loc[df_teatro_real['Evento'] > 0, 'Aforo'] = 1700\n"
   ]
  },
  {
   "cell_type": "code",
   "execution_count": null,
   "metadata": {},
   "outputs": [],
   "source": [
    "df_teatro_real.to_csv(data_out + \"df_teatro_real.csv\")"
   ]
  },
  {
   "cell_type": "code",
   "execution_count": null,
   "metadata": {},
   "outputs": [],
   "source": [
    "df_teatro_real = pd.read_csv(data_out + \"df_teatro_real.csv\", index_col = 'Date')"
   ]
  },
  {
   "cell_type": "code",
   "execution_count": null,
   "metadata": {},
   "outputs": [],
   "source": [
    "#Se eliminan los registros que no nos sirven\n",
    "df_teatro_real = df_teatro_real.dropna()\n",
    "df_teatro_real.loc[df_teatro_real['Consumo'] < 1, 'COP'] = 0\n",
    "df_teatro_real = df_teatro_real[df_teatro_real['T_interior_inicial']>=15]\n",
    "df_teatro_real = df_teatro_real[df_teatro_real['T_interior_final']>=15]"
   ]
  },
  {
   "cell_type": "code",
   "execution_count": null,
   "metadata": {},
   "outputs": [],
   "source": [
    "df_teatro_real[['Climatizador 1', 'Climatizador 2', 'Climatizador Carlos', 'Climatizador Felipe', 'Consumo', 'COP', 'Wt', 'T_interior_inicial', 'T_exterior']].describe()"
   ]
  },
  {
   "cell_type": "markdown",
   "metadata": {},
   "source": [
    "## Fin preprocesamiento general "
   ]
  },
  {
   "cell_type": "markdown",
   "metadata": {},
   "source": [
    "### Datos sin modo invierno"
   ]
  },
  {
   "cell_type": "code",
   "execution_count": null,
   "metadata": {},
   "outputs": [],
   "source": [
    "df_teatro_real_sin_invierno = df_teatro_real.copy()\n",
    "\n",
    "df_teatro_real_sin_invierno.loc[df_teatro_real_sin_invierno['Climatizador Carlos'] > 0, 'Climatizador Carlos'] = -1*df_teatro_real_sin_invierno.loc[df_teatro_real_sin_invierno['Climatizador Carlos'] > 0, 'Climatizador Carlos']\n",
    "df_teatro_real_sin_invierno.loc[df_teatro_real_sin_invierno['Climatizador Felipe'] > 0, 'Climatizador Felipe'] = -1*df_teatro_real_sin_invierno.loc[df_teatro_real_sin_invierno['Climatizador Felipe'] > 0, 'Climatizador Felipe']\n"
   ]
  },
  {
   "cell_type": "code",
   "execution_count": null,
   "metadata": {},
   "outputs": [],
   "source": [
    "df_teatro_real_sin_invierno.describe()"
   ]
  },
  {
   "cell_type": "markdown",
   "metadata": {},
   "source": [
    "### Datos con modo invierno forzado"
   ]
  },
  {
   "cell_type": "code",
   "execution_count": null,
   "metadata": {},
   "outputs": [],
   "source": [
    "df_invierno_f = df_teatro_real.copy()\n",
    "df_invierno_f.loc[df_invierno_f.index >= '2017-11-01', 'Climatizador Carlos'] = -1*df_invierno_f.loc[df_invierno_f.index >= '2017-11-01', 'Climatizador Carlos']\n",
    "df_invierno_f.loc[df_invierno_f.index >= '2017-11-01', 'Climatizador Felipe'] = -1*df_invierno_f.loc[df_invierno_f.index >= '2017-11-01', 'Climatizador Felipe']"
   ]
  },
  {
   "cell_type": "code",
   "execution_count": null,
   "metadata": {},
   "outputs": [],
   "source": [
    "df_invierno_f.loc[df_invierno_f.index >= '2017-11-01'].describe()"
   ]
  },
  {
   "cell_type": "markdown",
   "metadata": {},
   "source": [
    "### Datos con modo invierno al aumentar la temperatura"
   ]
  },
  {
   "cell_type": "code",
   "execution_count": null,
   "metadata": {},
   "outputs": [],
   "source": [
    "df_invierno_aumento = df_teatro_real.copy()\n",
    "\n",
    "for i in range(7937, 12362):\n",
    "    if(df_invierno_aumento.iloc[i]['T_interior_final'] > df_invierno_aumento.iloc[i]['T_interior_inicial']):\n",
    "        df_invierno_aumento.iloc[i, df_invierno_aumento.columns.get_loc('Climatizador Carlos')] =  -df_invierno_aumento.iloc[i]['Climatizador Carlos']\n",
    "        df_invierno_aumento.iloc[i, df_invierno_aumento.columns.get_loc('Climatizador Felipe')] =  -df_invierno_aumento.iloc[i]['Climatizador Felipe']"
   ]
  },
  {
   "cell_type": "code",
   "execution_count": null,
   "metadata": {},
   "outputs": [],
   "source": [
    "df_teatro_real"
   ]
  },
  {
   "cell_type": "markdown",
   "metadata": {},
   "source": [
    "## Segmentación de datos para los modelos"
   ]
  },
  {
   "cell_type": "code",
   "execution_count": null,
   "metadata": {},
   "outputs": [],
   "source": [
    "#Dividimos los datos en datos de entrada y salida\n",
    "entradas_modelo = df_teatro_real[['Climatizador 1',\n",
    "                                  'Climatizador 2',\n",
    "                                  'Climatizador Carlos',\n",
    "                                  'Climatizador Felipe',\n",
    "                                  'T_interior_inicial',\n",
    "                                  'T_exterior',\n",
    "                                  'Aforo'\n",
    "                                 ]]\n",
    "\n",
    "salidas_modelo = df_teatro_real[['Consumo',\n",
    "                                 'Variacion_temperatura',\n",
    "                                 'Wt'\n",
    "                                ]]\n",
    "#Kcal\n",
    "#Dividimos los datos en datos de entrenamiento y datos de validación\n",
    "x_train, x_test, y_train, y_test = train_test_split(entradas_modelo, salidas_modelo, test_size=0.2, shuffle = True)\n"
   ]
  },
  {
   "cell_type": "code",
   "execution_count": null,
   "metadata": {},
   "outputs": [],
   "source": [
    "x_train.describe()"
   ]
  },
  {
   "cell_type": "code",
   "execution_count": null,
   "metadata": {},
   "outputs": [],
   "source": [
    "x_test"
   ]
  },
  {
   "cell_type": "code",
   "execution_count": null,
   "metadata": {},
   "outputs": [],
   "source": [
    "x_train"
   ]
  },
  {
   "cell_type": "markdown",
   "metadata": {},
   "source": [
    "## Creación del modelo con keras"
   ]
  },
  {
   "cell_type": "code",
   "execution_count": null,
   "metadata": {
    "scrolled": true
   },
   "outputs": [],
   "source": [
    "#Creamos el perceptrón multicapa con keras y lo entrenamos\n",
    "model = Sequential([\n",
    "        Dense(30, input_dim = 7),\n",
    "        Activation('relu'),\n",
    "        Dense(20),\n",
    "        Activation('relu'),\n",
    "        Dense(10),\n",
    "        Activation('relu'),\n",
    "        Dense(3),\n",
    "])\n",
    "\n",
    "model.compile(loss='mean_squared_error', optimizer='adam', metrics=['acc'])\n",
    "model.fit(x_train, y_train, epochs=35, validation_split=0.3, shuffle=True)\n",
    "\n",
    "model.save('output/modelo_hvac.h5')"
   ]
  },
  {
   "cell_type": "code",
   "execution_count": null,
   "metadata": {},
   "outputs": [],
   "source": [
    "salidas_test = model.predict(x_test)\n",
    "score, acc = model.evaluate(x_test, y_test)\n",
    "print(\"Error: \", score)\n",
    "print(\"Precision: \", acc)"
   ]
  },
  {
   "cell_type": "code",
   "execution_count": null,
   "metadata": {},
   "outputs": [],
   "source": [
    "#GRafica mlp con todos los datos\n",
    "plt.figure(figsize=(8, 8), dpi=80)\n",
    "plt.scatter(y_test['Variacion_temperatura'], salidas_test[:, 0])\n",
    "plt.scatter(y_test['Variacion_temperatura'], y_test['Variacion_temperatura'], c='r')\n",
    "plt.ylabel(\"Predicción\")\n",
    "plt.xlabel(\"Valor real\")\n",
    "plt.title(\"Variación temperatura\")"
   ]
  },
  {
   "cell_type": "markdown",
   "metadata": {},
   "source": [
    "## Creación del modelo con Random Forest"
   ]
  },
  {
   "cell_type": "code",
   "execution_count": null,
   "metadata": {},
   "outputs": [],
   "source": [
    "#Creamos el Random Forest con sklearn\n",
    "forest = RandomForestRegressor(\n",
    "    bootstrap = True,\n",
    "    criterion = 'mse',\n",
    "    max_depth = None,\n",
    "    max_features = 'auto',\n",
    "    max_leaf_nodes = None,\n",
    "    min_impurity_decrease = 0.0,\n",
    "    min_impurity_split = None,\n",
    "    min_samples_leaf = 1,\n",
    "    min_samples_split = 2,\n",
    "    min_weight_fraction_leaf = 0.0,\n",
    "    n_estimators = 20,\n",
    "    n_jobs = 8,\n",
    "    oob_score = True,\n",
    "    random_state = None,\n",
    "    verbose = 0,\n",
    "    warm_start = False)\n",
    "\n",
    "forest.fit(x_train,y_train)\n",
    "\n",
    "filename = 'forest_model.sav'\n",
    "pickle.dump(forest, open(filename, 'wb'))"
   ]
  },
  {
   "cell_type": "code",
   "execution_count": null,
   "metadata": {},
   "outputs": [],
   "source": [
    "salidas_test = forest.predict(x_test)\n",
    "metricas = forest.score(x_test, y_test)\n",
    "print(metricas)"
   ]
  },
  {
   "cell_type": "code",
   "execution_count": null,
   "metadata": {},
   "outputs": [],
   "source": [
    "plt.figure(figsize=(8, 8), dpi=80)\n",
    "plt.scatter(y_test['Variacion_temperatura'], salidas_test[:, 1])\n",
    "plt.scatter(y_test['Variacion_temperatura'], y_test['Variacion_temperatura'], c='r')"
   ]
  },
  {
   "cell_type": "code",
   "execution_count": null,
   "metadata": {},
   "outputs": [],
   "source": [
    "#Obtenemos la importancia de cada entrada para el Random Forest\n",
    "Comfort_forest_pca = pd.DataFrame(forest.feature_importances_, columns = ['Relevance'], index = list(entradas_modelo.columns)) * 100\n",
    "Comfort_forest_pca.sort_values(by = 'Relevance', ascending = False, inplace = True)\n",
    "Comfort_forest_pca"
   ]
  },
  {
   "cell_type": "code",
   "execution_count": null,
   "metadata": {},
   "outputs": [],
   "source": [
    "fig = plt.subplots(2,figsize=(18,7))\n",
    "plt.rcParams.update({'font.size': 12})\n",
    "ax = plt.subplot(1, 2, 1)\n",
    "ax.scatter(y_test[\"Wt\"], prediccion_mlp[:, 2])\n",
    "ax.scatter(y_test[\"Wt\"], y_test[\"Wt\"], c=\"r\")\n",
    "ax.set_ylabel(\"KW\")\n",
    "ax.set_xlabel(\"KW\")\n",
    "ax.set_title(\"Perceptrón multicapa\")\n",
    "plt.xticks(rotation=45)\n",
    "plt.rcParams.update({'font.size': 12})\n",
    "ay = plt.subplot(1, 2, 2)\n",
    "ay.scatter(y_test[\"Wt\"], prediccion_forest[:, 2])\n",
    "ay.scatter(y_test[\"Wt\"], y_test[\"Wt\"], c=\"r\")\n",
    "\n",
    "ay.set_ylabel(\"KW\")\n",
    "ay.set_xlabel(\"KW\")\n",
    "ay.set_title(\"Random Forest\")\n",
    "plt.xticks(rotation=45)\n",
    "\n",
    "plt.show()"
   ]
  },
  {
   "cell_type": "markdown",
   "metadata": {},
   "source": [
    "## Comparamos el error y  R2 de ambos modelos "
   ]
  },
  {
   "cell_type": "code",
   "execution_count": null,
   "metadata": {},
   "outputs": [],
   "source": [
    "# Cálculo error cuadrático medio\n",
    "error_consumo_mlp = (abs(prediccion_mlp[:, 0] - y_test['Consumo']).sum())/len(x_test)\n",
    "error_consumo_forest = (abs(prediccion_forest[:, 0] - y_test['Consumo']).sum())/len(x_test)\n",
    "\n",
    "print(\"Error para el consumo: \")\n",
    "print(\"\\t Perceptron multicapa:\", round(error_consumo_mlp, 3), \" KW\")\n",
    "print(\"\\t Random Forest: \", round(error_consumo_forest, 3), \" KW\")\n",
    "\n",
    "error_temp_mlp = (abs(prediccion_mlp[:, 1] - y_test['Variacion_temperatura']).sum())/len(x_test)\n",
    "error_temp_forest = (abs(prediccion_forest[:, 1] - y_test['Variacion_temperatura']).sum())/len(x_test)\n",
    "\n",
    "print(\"Error para la temperatura: \")\n",
    "print(\"\\t Perceptron multicapa:\", round(error_temp_mlp, 3), \" ºC\")\n",
    "print(\"\\t Random Forest: \", round(error_temp_forest, 3), \" ºC\")\n",
    "\n",
    "error_wt_mlp = (abs(prediccion_mlp[:, 2] - y_test['Wt']).sum())/len(x_test)\n",
    "error_wt_forest = (abs(prediccion_forest[:, 2] - y_test['Wt']).sum())/len(x_test)\n",
    "\n",
    "print(\"Error para el Wt: \")\n",
    "print(\"\\t Perceptron multicapa:\", round(error_wt_mlp, 3), \" KW\")\n",
    "print(\"\\t Random Forest: \", round(error_wt_forest, 3), \" KW\")"
   ]
  },
  {
   "cell_type": "code",
   "execution_count": null,
   "metadata": {},
   "outputs": [],
   "source": [
    "#Calculo R2\n",
    "\n",
    "r2_consumo_mlp = metrics.r2_score(y_test['Consumo'], prediccion_mlp[:, 0])\n",
    "r2_consumo_forest = metrics.r2_score(y_test['Consumo'], prediccion_forest[:, 0])\n",
    "\n",
    "print(\"R2 para el consumo: \")\n",
    "print(\"\\t Perceptron multicapa:\", round(r2_consumo_mlp, 3)*100 , \"%\")\n",
    "print(\"\\t Random Forest: \", round(r2_consumo_forest, 3)*100, \"%\")\n",
    "\n",
    "r2_temperatura_mlp = metrics.r2_score(y_test['Variacion_temperatura'], prediccion_mlp[:, 1])\n",
    "r2_temperatura_forest = metrics.r2_score(y_test['Variacion_temperatura'], prediccion_forest[:, 1])\n",
    "\n",
    "print(\"R2 para la temperatura: \")\n",
    "print(\"\\t Perceptron multicapa:\", round(r2_temperatura_mlp, 3)*100 , \"%\")\n",
    "print(\"\\t Random Forest: \", round(r2_temperatura_forest, 3)*100, \"%\")\n",
    "\n",
    "r2_wt_mlp = metrics.r2_score(y_test['Wt'], prediccion_mlp[:, 2])\n",
    "r2_wt_forest = metrics.r2_score(y_test['Wt'], prediccion_forest[:, 2])\n",
    "\n",
    "print(\"R2 para la energía suministrada: \")\n",
    "print(\"\\t Perceptron multicapa:\", round(r2_wt_mlp, 3)*100 , \"%\")\n",
    "print(\"\\t Random Forest: \", round(r2_wt_forest, 3)*100, \"%\")"
   ]
  },
  {
   "cell_type": "markdown",
   "metadata": {},
   "source": [
    "## Preparación datos de simulación"
   ]
  },
  {
   "cell_type": "code",
   "execution_count": null,
   "metadata": {},
   "outputs": [],
   "source": [
    "df_teatro_real[\"Fecha\"] = 0\n",
    "for i in range(len(df_teatro_real)):\n",
    "    df_teatro_real['Fecha'].iloc[i] = datetime.datetime.strptime(str(df_teatro_real.iloc[i].name), '%Y-%m-%d %H:%M:%S')\n",
    "df_teatro_real = df_teatro_real.reset_index(drop = True)"
   ]
  },
  {
   "cell_type": "code",
   "execution_count": null,
   "metadata": {},
   "outputs": [],
   "source": [
    "datos_simulacion = pd.DataFrame()\n",
    "\n",
    "for i in range (20):\n",
    "    longitud = 0\n",
    "    continuar = 0\n",
    "    while(continuar == 0):\n",
    "        evento = np.random.randint(73, 310)\n",
    "        if(len(df_teatro_real[df_teatro_real['Evento'] == evento])>0):\n",
    "            posicion = df_teatro_real[df_teatro_real['Evento'] == evento].index[0]\n",
    "            continuar = 1\n",
    "            if(df_teatro_real[\"Fecha\"].iloc[posicion].hour - df_teatro_real[\"Fecha\"].iloc[posicion-12].hour > 3 or \n",
    "              df_teatro_real[\"Fecha\"].iloc[posicion].day != df_teatro_real[\"Fecha\"].iloc[posicion-12].day):\n",
    "                continuar  = 0\n",
    "    \n",
    "    df_aux = df_teatro_real.iloc[posicion-12:posicion]\n",
    "    datos_simulacion = datos_simulacion.append(\n",
    "                                pd.DataFrame(\n",
    "                                {\n",
    "                                    \"Evento\" : [evento],\n",
    "                                    \"Hora_inicio\": [df_aux[\"Fecha\"].iloc[0]],\n",
    "                                    \"Hora_evento\"  : [df_aux[\"Fecha\"].iloc[-1] + datetime.timedelta(minutes=15)],\n",
    "                                    \"T_interior_inicial\" : [df_aux[\"T_interior_inicial\"].iloc[0]],\n",
    "                                    \"T_interior_final\"   : [df_aux[\"T_interior_final\"].iloc[-1]],\n",
    "                                    \"T_exterior\": [df_aux[\"T_exterior\"].reset_index(drop = True)],\n",
    "                                    \"Consumos\"  : [df_aux[\"Consumo\"].values],\n",
    "                                    \"Consumo\"        : [df_aux[\"Consumo\"].sum()],\n",
    "                                    \"COP\"                 : [df_aux[\"COP\"].mean()],\n",
    "                                    \"Confort\"             : [df_aux[\"T_interior_final\"].iloc[-1] - 23.5],\n",
    "                                    \"Programa\"            : [df_aux[[\"Fecha\", \"Climatizador 1\", \"Climatizador 2\", \"Climatizador Carlos\", \"Climatizador Felipe\"]].reset_index(drop = True)]\n",
    "                                }), ignore_index = True) "
   ]
  },
  {
   "cell_type": "code",
   "execution_count": null,
   "metadata": {},
   "outputs": [],
   "source": [
    "datos_simulacion = datos_simulacion.drop_duplicates(subset = \"Hora_inicio\")\n",
    "datos_simulacion.to_csv(\"datos_simulacion.csv\")"
   ]
  }
 ],
 "metadata": {
  "kernelspec": {
   "display_name": "Python 3",
   "language": "python",
   "name": "python3"
  },
  "language_info": {
   "codemirror_mode": {
    "name": "ipython",
    "version": 3
   },
   "file_extension": ".py",
   "mimetype": "text/x-python",
   "name": "python",
   "nbconvert_exporter": "python",
   "pygments_lexer": "ipython3",
   "version": "3.7.7"
  }
 },
 "nbformat": 4,
 "nbformat_minor": 4
}
